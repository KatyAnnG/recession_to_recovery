{
 "cells": [
  {
   "cell_type": "code",
   "execution_count": 148,
   "id": "81c60bb7",
   "metadata": {},
   "outputs": [],
   "source": [
    "import statsmodels.formula.api as sm\n",
    "import numpy as np\n",
    "import pandas as pd\n",
    "import seaborn as sns\n",
    "import matplotlib.pyplot as plt\n",
    "import glob\n",
    "import os"
   ]
  },
  {
   "cell_type": "markdown",
   "id": "05b21a41",
   "metadata": {},
   "source": [
    "# Preparing Dataframes for combination table"
   ]
  },
  {
   "cell_type": "code",
   "execution_count": 6,
   "id": "8a68377b",
   "metadata": {},
   "outputs": [],
   "source": [
    "population = pd.read_csv('./population_totals.csv')"
   ]
  },
  {
   "cell_type": "code",
   "execution_count": 7,
   "id": "e050999e",
   "metadata": {},
   "outputs": [],
   "source": [
    "homeless = pd.read_csv('./homelessness_totals.csv')"
   ]
  },
  {
   "cell_type": "code",
   "execution_count": 9,
   "id": "54e5210e",
   "metadata": {},
   "outputs": [],
   "source": [
    "rent = pd.read_csv('./avg_rent_2008-2022.csv')"
   ]
  },
  {
   "cell_type": "code",
   "execution_count": 12,
   "id": "b7b228a5",
   "metadata": {},
   "outputs": [],
   "source": [
    "income = pd.read_csv('./average_income.csv')"
   ]
  },
  {
   "cell_type": "code",
   "execution_count": 10,
   "id": "4fca6a92",
   "metadata": {},
   "outputs": [],
   "source": [
    "tax = pd.read_csv('./corporation_tax_all_years.csv')"
   ]
  },
  {
   "cell_type": "code",
   "execution_count": 72,
   "id": "e8747ac9",
   "metadata": {},
   "outputs": [],
   "source": [
    "y_a = pd.read_csv('./young_adults_living_at_home.csv')"
   ]
  },
  {
   "cell_type": "code",
   "execution_count": 26,
   "id": "b723ef0c",
   "metadata": {},
   "outputs": [
    {
     "data": {
      "text/html": [
       "<div>\n",
       "<style scoped>\n",
       "    .dataframe tbody tr th:only-of-type {\n",
       "        vertical-align: middle;\n",
       "    }\n",
       "\n",
       "    .dataframe tbody tr th {\n",
       "        vertical-align: top;\n",
       "    }\n",
       "\n",
       "    .dataframe thead th {\n",
       "        text-align: right;\n",
       "    }\n",
       "</style>\n",
       "<table border=\"1\" class=\"dataframe\">\n",
       "  <thead>\n",
       "    <tr style=\"text-align: right;\">\n",
       "      <th></th>\n",
       "      <th>year</th>\n",
       "      <th>number of bedrooms</th>\n",
       "      <th>property type</th>\n",
       "      <th>location</th>\n",
       "      <th>unit</th>\n",
       "      <th>price</th>\n",
       "    </tr>\n",
       "  </thead>\n",
       "  <tbody>\n",
       "    <tr>\n",
       "      <th>0</th>\n",
       "      <td>2008</td>\n",
       "      <td>All bedrooms</td>\n",
       "      <td>All property types</td>\n",
       "      <td>Dublin</td>\n",
       "      <td>Euro</td>\n",
       "      <td>1270</td>\n",
       "    </tr>\n",
       "    <tr>\n",
       "      <th>1</th>\n",
       "      <td>2008</td>\n",
       "      <td>All bedrooms</td>\n",
       "      <td>All property types</td>\n",
       "      <td>Balbriggan, Dublin</td>\n",
       "      <td>Euro</td>\n",
       "      <td>1033</td>\n",
       "    </tr>\n",
       "    <tr>\n",
       "      <th>2</th>\n",
       "      <td>2008</td>\n",
       "      <td>All bedrooms</td>\n",
       "      <td>All property types</td>\n",
       "      <td>Blackrock, Dublin</td>\n",
       "      <td>Euro</td>\n",
       "      <td>1586</td>\n",
       "    </tr>\n",
       "    <tr>\n",
       "      <th>3</th>\n",
       "      <td>2008</td>\n",
       "      <td>All bedrooms</td>\n",
       "      <td>All property types</td>\n",
       "      <td>Booterstown, Dublin</td>\n",
       "      <td>Euro</td>\n",
       "      <td>1657</td>\n",
       "    </tr>\n",
       "    <tr>\n",
       "      <th>4</th>\n",
       "      <td>2008</td>\n",
       "      <td>All bedrooms</td>\n",
       "      <td>All property types</td>\n",
       "      <td>Dalkey, Dublin</td>\n",
       "      <td>Euro</td>\n",
       "      <td>1655</td>\n",
       "    </tr>\n",
       "    <tr>\n",
       "      <th>...</th>\n",
       "      <td>...</td>\n",
       "      <td>...</td>\n",
       "      <td>...</td>\n",
       "      <td>...</td>\n",
       "      <td>...</td>\n",
       "      <td>...</td>\n",
       "    </tr>\n",
       "    <tr>\n",
       "      <th>39476</th>\n",
       "      <td>2022</td>\n",
       "      <td>Four plus bed</td>\n",
       "      <td>Terrace house</td>\n",
       "      <td>Ballsbridge, Dublin 4</td>\n",
       "      <td>Euro</td>\n",
       "      <td>3928</td>\n",
       "    </tr>\n",
       "    <tr>\n",
       "      <th>39477</th>\n",
       "      <td>2022</td>\n",
       "      <td>Four plus bed</td>\n",
       "      <td>Terrace house</td>\n",
       "      <td>Ranelagh, Dublin 6</td>\n",
       "      <td>Euro</td>\n",
       "      <td>3862</td>\n",
       "    </tr>\n",
       "    <tr>\n",
       "      <th>39478</th>\n",
       "      <td>2022</td>\n",
       "      <td>Four plus bed</td>\n",
       "      <td>Terrace house</td>\n",
       "      <td>Rathmines, Dublin 6</td>\n",
       "      <td>Euro</td>\n",
       "      <td>3179</td>\n",
       "    </tr>\n",
       "    <tr>\n",
       "      <th>39479</th>\n",
       "      <td>2022</td>\n",
       "      <td>Four plus bed</td>\n",
       "      <td>Apartment</td>\n",
       "      <td>Dublin</td>\n",
       "      <td>Euro</td>\n",
       "      <td>2596</td>\n",
       "    </tr>\n",
       "    <tr>\n",
       "      <th>39480</th>\n",
       "      <td>2022</td>\n",
       "      <td>Four plus bed</td>\n",
       "      <td>Other flats</td>\n",
       "      <td>Dublin</td>\n",
       "      <td>Euro</td>\n",
       "      <td>2674</td>\n",
       "    </tr>\n",
       "  </tbody>\n",
       "</table>\n",
       "<p>39481 rows × 6 columns</p>\n",
       "</div>"
      ],
      "text/plain": [
       "       year number of bedrooms       property type               location  \\\n",
       "0      2008       All bedrooms  All property types                 Dublin   \n",
       "1      2008       All bedrooms  All property types     Balbriggan, Dublin   \n",
       "2      2008       All bedrooms  All property types      Blackrock, Dublin   \n",
       "3      2008       All bedrooms  All property types    Booterstown, Dublin   \n",
       "4      2008       All bedrooms  All property types         Dalkey, Dublin   \n",
       "...     ...                ...                 ...                    ...   \n",
       "39476  2022      Four plus bed       Terrace house  Ballsbridge, Dublin 4   \n",
       "39477  2022      Four plus bed       Terrace house     Ranelagh, Dublin 6   \n",
       "39478  2022      Four plus bed       Terrace house    Rathmines, Dublin 6   \n",
       "39479  2022      Four plus bed           Apartment                 Dublin   \n",
       "39480  2022      Four plus bed         Other flats                 Dublin   \n",
       "\n",
       "       unit  price  \n",
       "0      Euro   1270  \n",
       "1      Euro   1033  \n",
       "2      Euro   1586  \n",
       "3      Euro   1657  \n",
       "4      Euro   1655  \n",
       "...     ...    ...  \n",
       "39476  Euro   3928  \n",
       "39477  Euro   3862  \n",
       "39478  Euro   3179  \n",
       "39479  Euro   2596  \n",
       "39480  Euro   2674  \n",
       "\n",
       "[39481 rows x 6 columns]"
      ]
     },
     "execution_count": 26,
     "metadata": {},
     "output_type": "execute_result"
    }
   ],
   "source": [
    "rent"
   ]
  },
  {
   "cell_type": "code",
   "execution_count": 35,
   "id": "f07ef2d4",
   "metadata": {},
   "outputs": [
    {
     "data": {
      "text/html": [
       "<div>\n",
       "<style scoped>\n",
       "    .dataframe tbody tr th:only-of-type {\n",
       "        vertical-align: middle;\n",
       "    }\n",
       "\n",
       "    .dataframe tbody tr th {\n",
       "        vertical-align: top;\n",
       "    }\n",
       "\n",
       "    .dataframe thead th {\n",
       "        text-align: right;\n",
       "    }\n",
       "</style>\n",
       "<table border=\"1\" class=\"dataframe\">\n",
       "  <thead>\n",
       "    <tr style=\"text-align: right;\">\n",
       "      <th></th>\n",
       "      <th></th>\n",
       "      <th>price</th>\n",
       "    </tr>\n",
       "    <tr>\n",
       "      <th>year</th>\n",
       "      <th>location</th>\n",
       "      <th></th>\n",
       "    </tr>\n",
       "  </thead>\n",
       "  <tbody>\n",
       "    <tr>\n",
       "      <th rowspan=\"5\" valign=\"top\">2008</th>\n",
       "      <th>Artane, Dublin 5</th>\n",
       "      <td>1317.062500</td>\n",
       "    </tr>\n",
       "    <tr>\n",
       "      <th>Ashtown, Dublin 15</th>\n",
       "      <td>1226.181818</td>\n",
       "    </tr>\n",
       "    <tr>\n",
       "      <th>Aungier Street, Dublin 2</th>\n",
       "      <td>1166.166667</td>\n",
       "    </tr>\n",
       "    <tr>\n",
       "      <th>Balbriggan, Dublin</th>\n",
       "      <td>1018.590909</td>\n",
       "    </tr>\n",
       "    <tr>\n",
       "      <th>Baldoyle, Dublin 13</th>\n",
       "      <td>1326.538462</td>\n",
       "    </tr>\n",
       "    <tr>\n",
       "      <th>...</th>\n",
       "      <th>...</th>\n",
       "      <td>...</td>\n",
       "    </tr>\n",
       "    <tr>\n",
       "      <th rowspan=\"5\" valign=\"top\">2022</th>\n",
       "      <th>Templeogue, Dublin 6W</th>\n",
       "      <td>2123.833333</td>\n",
       "    </tr>\n",
       "    <tr>\n",
       "      <th>Terenure, Dublin 6W</th>\n",
       "      <td>1916.434783</td>\n",
       "    </tr>\n",
       "    <tr>\n",
       "      <th>Townsend Street, Dublin 2</th>\n",
       "      <td>1806.800000</td>\n",
       "    </tr>\n",
       "    <tr>\n",
       "      <th>Walkinstown, Dublin 12</th>\n",
       "      <td>1705.428571</td>\n",
       "    </tr>\n",
       "    <tr>\n",
       "      <th>Whitehall, Dublin 9</th>\n",
       "      <td>1668.615385</td>\n",
       "    </tr>\n",
       "  </tbody>\n",
       "</table>\n",
       "<p>2371 rows × 1 columns</p>\n",
       "</div>"
      ],
      "text/plain": [
       "                                      price\n",
       "year location                              \n",
       "2008 Artane, Dublin 5           1317.062500\n",
       "     Ashtown, Dublin 15         1226.181818\n",
       "     Aungier Street, Dublin 2   1166.166667\n",
       "     Balbriggan, Dublin         1018.590909\n",
       "     Baldoyle, Dublin 13        1326.538462\n",
       "...                                     ...\n",
       "2022 Templeogue, Dublin 6W      2123.833333\n",
       "     Terenure, Dublin 6W        1916.434783\n",
       "     Townsend Street, Dublin 2  1806.800000\n",
       "     Walkinstown, Dublin 12     1705.428571\n",
       "     Whitehall, Dublin 9        1668.615385\n",
       "\n",
       "[2371 rows x 1 columns]"
      ]
     },
     "execution_count": 35,
     "metadata": {},
     "output_type": "execute_result"
    }
   ],
   "source": [
    "rent_grouped = rent.groupby(['year', 'location'])[['price']].mean()\n",
    "rent_grouped"
   ]
  },
  {
   "cell_type": "code",
   "execution_count": 36,
   "id": "94c4d55d",
   "metadata": {},
   "outputs": [],
   "source": [
    "rent_grouped.reset_index(inplace=True)"
   ]
  },
  {
   "cell_type": "code",
   "execution_count": 39,
   "id": "bcdc2450",
   "metadata": {},
   "outputs": [],
   "source": [
    "rent_yearly = rent_grouped.groupby('year')[['price']].median().round(2)"
   ]
  },
  {
   "cell_type": "code",
   "execution_count": 48,
   "id": "24ee6190",
   "metadata": {},
   "outputs": [],
   "source": [
    "rent_yearly.rename(columns={'price':'average rent'}, inplace=True)"
   ]
  },
  {
   "cell_type": "code",
   "execution_count": 41,
   "id": "01f334aa",
   "metadata": {},
   "outputs": [],
   "source": [
    "income.rename(columns={'time':'year'}, inplace=True)"
   ]
  },
  {
   "cell_type": "code",
   "execution_count": 47,
   "id": "f6446e69",
   "metadata": {},
   "outputs": [],
   "source": [
    "income.rename(columns={'value':'average income'}, inplace=True)"
   ]
  },
  {
   "cell_type": "code",
   "execution_count": 78,
   "id": "7835aab2",
   "metadata": {},
   "outputs": [
    {
     "data": {
      "text/html": [
       "<div>\n",
       "<style scoped>\n",
       "    .dataframe tbody tr th:only-of-type {\n",
       "        vertical-align: middle;\n",
       "    }\n",
       "\n",
       "    .dataframe tbody tr th {\n",
       "        vertical-align: top;\n",
       "    }\n",
       "\n",
       "    .dataframe thead th {\n",
       "        text-align: right;\n",
       "    }\n",
       "</style>\n",
       "<table border=\"1\" class=\"dataframe\">\n",
       "  <thead>\n",
       "    <tr style=\"text-align: right;\">\n",
       "      <th></th>\n",
       "      <th>year</th>\n",
       "      <th>age group</th>\n",
       "      <th>population total</th>\n",
       "    </tr>\n",
       "  </thead>\n",
       "  <tbody>\n",
       "    <tr>\n",
       "      <th>0</th>\n",
       "      <td>2002</td>\n",
       "      <td>All ages</td>\n",
       "      <td>3917203</td>\n",
       "    </tr>\n",
       "    <tr>\n",
       "      <th>1</th>\n",
       "      <td>2006</td>\n",
       "      <td>All ages</td>\n",
       "      <td>4239848</td>\n",
       "    </tr>\n",
       "    <tr>\n",
       "      <th>2</th>\n",
       "      <td>2011</td>\n",
       "      <td>All ages</td>\n",
       "      <td>4588252</td>\n",
       "    </tr>\n",
       "    <tr>\n",
       "      <th>3</th>\n",
       "      <td>2016</td>\n",
       "      <td>All ages</td>\n",
       "      <td>4761865</td>\n",
       "    </tr>\n",
       "    <tr>\n",
       "      <th>4</th>\n",
       "      <td>2022</td>\n",
       "      <td>All ages</td>\n",
       "      <td>5149139</td>\n",
       "    </tr>\n",
       "    <tr>\n",
       "      <th>5</th>\n",
       "      <td>2019</td>\n",
       "      <td>All ages</td>\n",
       "      <td>4921496</td>\n",
       "    </tr>\n",
       "    <tr>\n",
       "      <th>6</th>\n",
       "      <td>2020</td>\n",
       "      <td>All ages</td>\n",
       "      <td>4977443</td>\n",
       "    </tr>\n",
       "    <tr>\n",
       "      <th>7</th>\n",
       "      <td>2021</td>\n",
       "      <td>All ages</td>\n",
       "      <td>5011460</td>\n",
       "    </tr>\n",
       "  </tbody>\n",
       "</table>\n",
       "</div>"
      ],
      "text/plain": [
       "   year age group  population total\n",
       "0  2002  All ages           3917203\n",
       "1  2006  All ages           4239848\n",
       "2  2011  All ages           4588252\n",
       "3  2016  All ages           4761865\n",
       "4  2022  All ages           5149139\n",
       "5  2019  All ages           4921496\n",
       "6  2020  All ages           4977443\n",
       "7  2021  All ages           5011460"
      ]
     },
     "execution_count": 78,
     "metadata": {},
     "output_type": "execute_result"
    }
   ],
   "source": [
    "population.rename(columns={'value':'population total'}, inplace=True)"
   ]
  },
  {
   "cell_type": "code",
   "execution_count": 52,
   "id": "ca77262c",
   "metadata": {},
   "outputs": [],
   "source": [
    "homeless.rename(columns={'total adults':'total homeless adults'}, inplace=True)"
   ]
  },
  {
   "cell_type": "code",
   "execution_count": 55,
   "id": "6ef13f28",
   "metadata": {},
   "outputs": [],
   "source": [
    "y_a = y_a[y_a['country'] == 'IE']"
   ]
  },
  {
   "cell_type": "code",
   "execution_count": 62,
   "id": "89e2469a",
   "metadata": {},
   "outputs": [],
   "source": [
    "y_a = y_a[y_a['sex'] == 'T']"
   ]
  },
  {
   "cell_type": "code",
   "execution_count": 65,
   "id": "442b9ab7",
   "metadata": {},
   "outputs": [],
   "source": [
    "y_a.to_csv('./young_adults_living_at_home.csv')"
   ]
  },
  {
   "cell_type": "code",
   "execution_count": 101,
   "id": "2607e93d",
   "metadata": {},
   "outputs": [],
   "source": [
    "y_a.rename(columns={'percentage':'percentage y/a living at home'}, inplace=True)"
   ]
  },
  {
   "cell_type": "code",
   "execution_count": 66,
   "id": "566269f5",
   "metadata": {},
   "outputs": [
    {
     "data": {
      "text/plain": [
       "array(['Y16-19', 'Y16-24', 'Y16-29', 'Y18-24', 'Y18-34', 'Y20-24',\n",
       "       'Y20-29', 'Y25-29', 'Y25-34'], dtype=object)"
      ]
     },
     "execution_count": 66,
     "metadata": {},
     "output_type": "execute_result"
    }
   ],
   "source": [
    "y_a['age'].unique()"
   ]
  },
  {
   "cell_type": "code",
   "execution_count": 73,
   "id": "6fdab7e1",
   "metadata": {},
   "outputs": [],
   "source": [
    "y_a = y_a[(y_a['age'] =='Y20-24')|(y_a['age'] =='Y25-34')]"
   ]
  },
  {
   "cell_type": "code",
   "execution_count": 76,
   "id": "1b5fbbee",
   "metadata": {},
   "outputs": [],
   "source": [
    "y_a = y_a.groupby('time_period')[['percentage']].mean()"
   ]
  },
  {
   "cell_type": "code",
   "execution_count": 98,
   "id": "6991bbd9",
   "metadata": {},
   "outputs": [],
   "source": [
    "y_a.rename(columns={'time_period':'year'}, inplace=True)"
   ]
  },
  {
   "cell_type": "markdown",
   "id": "cca5bede",
   "metadata": {},
   "source": [
    "# Combining the Dataframes"
   ]
  },
  {
   "cell_type": "code",
   "execution_count": 79,
   "id": "8496f616",
   "metadata": {},
   "outputs": [],
   "source": [
    "pop_homeless = population.merge(homeless, how='left', on='year')"
   ]
  },
  {
   "cell_type": "code",
   "execution_count": 87,
   "id": "8a05c213",
   "metadata": {},
   "outputs": [],
   "source": [
    "pop_homeless_rent = pop_homeless.merge(rent_yearly, how='left', on='year')"
   ]
  },
  {
   "cell_type": "code",
   "execution_count": 89,
   "id": "e66fe310",
   "metadata": {},
   "outputs": [],
   "source": [
    "pop_homeless_rent_income = pop_homeless_rent.merge(income, how='left', on='year')"
   ]
  },
  {
   "cell_type": "code",
   "execution_count": 91,
   "id": "65d98cd0",
   "metadata": {},
   "outputs": [],
   "source": [
    "pop_homeless_rent_income_tax = pop_homeless_rent_income.merge(tax, how='left', on='year')"
   ]
  },
  {
   "cell_type": "code",
   "execution_count": 132,
   "id": "0d029f27",
   "metadata": {},
   "outputs": [],
   "source": [
    "pop_homeless_rent_income_tax_y_a = pop_homeless_rent_income_tax.merge(y_a, how='left', on='year')"
   ]
  },
  {
   "cell_type": "code",
   "execution_count": 139,
   "id": "ae21f4db",
   "metadata": {},
   "outputs": [
    {
     "data": {
      "text/html": [
       "<div>\n",
       "<style scoped>\n",
       "    .dataframe tbody tr th:only-of-type {\n",
       "        vertical-align: middle;\n",
       "    }\n",
       "\n",
       "    .dataframe tbody tr th {\n",
       "        vertical-align: top;\n",
       "    }\n",
       "\n",
       "    .dataframe thead th {\n",
       "        text-align: right;\n",
       "    }\n",
       "</style>\n",
       "<table border=\"1\" class=\"dataframe\">\n",
       "  <thead>\n",
       "    <tr style=\"text-align: right;\">\n",
       "      <th></th>\n",
       "      <th>year</th>\n",
       "      <th>population total</th>\n",
       "      <th>total homeless adults</th>\n",
       "      <th>average rent</th>\n",
       "      <th>average income</th>\n",
       "      <th>total corporation tax revenue</th>\n",
       "      <th>percentage y/a living at home</th>\n",
       "    </tr>\n",
       "  </thead>\n",
       "  <tbody>\n",
       "    <tr>\n",
       "      <th>0</th>\n",
       "      <td>2002</td>\n",
       "      <td>3917203</td>\n",
       "      <td>NaN</td>\n",
       "      <td>NaN</td>\n",
       "      <td>31144</td>\n",
       "      <td>4803.75</td>\n",
       "      <td>NaN</td>\n",
       "    </tr>\n",
       "    <tr>\n",
       "      <th>1</th>\n",
       "      <td>2006</td>\n",
       "      <td>4239848</td>\n",
       "      <td>NaN</td>\n",
       "      <td>NaN</td>\n",
       "      <td>38297</td>\n",
       "      <td>6684.61</td>\n",
       "      <td>50.35</td>\n",
       "    </tr>\n",
       "    <tr>\n",
       "      <th>2</th>\n",
       "      <td>2011</td>\n",
       "      <td>4588252</td>\n",
       "      <td>NaN</td>\n",
       "      <td>966.54</td>\n",
       "      <td>42870</td>\n",
       "      <td>3751.38</td>\n",
       "      <td>47.55</td>\n",
       "    </tr>\n",
       "    <tr>\n",
       "      <th>3</th>\n",
       "      <td>2016</td>\n",
       "      <td>4761865</td>\n",
       "      <td>NaN</td>\n",
       "      <td>1316.35</td>\n",
       "      <td>43741</td>\n",
       "      <td>7351.71</td>\n",
       "      <td>55.75</td>\n",
       "    </tr>\n",
       "    <tr>\n",
       "      <th>4</th>\n",
       "      <td>2022</td>\n",
       "      <td>5149139</td>\n",
       "      <td>7438.5</td>\n",
       "      <td>1781.10</td>\n",
       "      <td>52971</td>\n",
       "      <td>NaN</td>\n",
       "      <td>66.35</td>\n",
       "    </tr>\n",
       "    <tr>\n",
       "      <th>5</th>\n",
       "      <td>2019</td>\n",
       "      <td>4921496</td>\n",
       "      <td>6489.5</td>\n",
       "      <td>1635.82</td>\n",
       "      <td>47879</td>\n",
       "      <td>10887.30</td>\n",
       "      <td>56.65</td>\n",
       "    </tr>\n",
       "    <tr>\n",
       "      <th>6</th>\n",
       "      <td>2020</td>\n",
       "      <td>4977443</td>\n",
       "      <td>6129.0</td>\n",
       "      <td>1680.08</td>\n",
       "      <td>49192</td>\n",
       "      <td>11952.78</td>\n",
       "      <td>61.20</td>\n",
       "    </tr>\n",
       "    <tr>\n",
       "      <th>7</th>\n",
       "      <td>2021</td>\n",
       "      <td>5011460</td>\n",
       "      <td>6018.0</td>\n",
       "      <td>1719.40</td>\n",
       "      <td>50665</td>\n",
       "      <td>15323.12</td>\n",
       "      <td>65.15</td>\n",
       "    </tr>\n",
       "  </tbody>\n",
       "</table>\n",
       "</div>"
      ],
      "text/plain": [
       "   year  population total  total homeless adults  average rent  \\\n",
       "0  2002           3917203                    NaN           NaN   \n",
       "1  2006           4239848                    NaN           NaN   \n",
       "2  2011           4588252                    NaN        966.54   \n",
       "3  2016           4761865                    NaN       1316.35   \n",
       "4  2022           5149139                 7438.5       1781.10   \n",
       "5  2019           4921496                 6489.5       1635.82   \n",
       "6  2020           4977443                 6129.0       1680.08   \n",
       "7  2021           5011460                 6018.0       1719.40   \n",
       "\n",
       "   average income  total corporation tax revenue  \\\n",
       "0           31144                        4803.75   \n",
       "1           38297                        6684.61   \n",
       "2           42870                        3751.38   \n",
       "3           43741                        7351.71   \n",
       "4           52971                            NaN   \n",
       "5           47879                       10887.30   \n",
       "6           49192                       11952.78   \n",
       "7           50665                       15323.12   \n",
       "\n",
       "   percentage y/a living at home  \n",
       "0                            NaN  \n",
       "1                          50.35  \n",
       "2                          47.55  \n",
       "3                          55.75  \n",
       "4                          66.35  \n",
       "5                          56.65  \n",
       "6                          61.20  \n",
       "7                          65.15  "
      ]
     },
     "execution_count": 139,
     "metadata": {},
     "output_type": "execute_result"
    }
   ],
   "source": [
    "pop_homeless_rent_income_tax_y_a#.pop('age group')"
   ]
  },
  {
   "cell_type": "code",
   "execution_count": 140,
   "id": "45363c78",
   "metadata": {},
   "outputs": [],
   "source": [
    "corr_table = pop_homeless_rent_income_tax_y_a"
   ]
  },
  {
   "cell_type": "code",
   "execution_count": 126,
   "id": "21b88369",
   "metadata": {},
   "outputs": [
    {
     "data": {
      "image/png": "[encoded data removed]",
      "text/plain": [
       "<Figure size 640x480 with 2 Axes>"
      ]
     },
     "metadata": {},
     "output_type": "display_data"
    }
   ],
   "source": [
    "case_factors = sns.heatmap(corr_table.corr(), annot=True);\n",
    "plt.tight_layout()"
   ]
  },
  {
   "cell_type": "code",
   "execution_count": 145,
   "id": "5d327552",
   "metadata": {},
   "outputs": [],
   "source": [
    "fig = case_factors.get_figure()\n",
    "fig.savefig(\"project_correlations.png\") "
   ]
  },
  {
   "cell_type": "code",
   "execution_count": 143,
   "id": "1518ecd2",
   "metadata": {},
   "outputs": [],
   "source": [
    "corr_long = pd.melt(corr_table, id_vars='year', value_vars=['population total', \n",
    "                                                'total homeless adults', \n",
    "                                                'average rent', \n",
    "                                                'average income', \n",
    "                                                'total corporation tax revenue', \n",
    "                                                'percentage y/a living at home'], var_name='measure', value_name='value', ignore_index=True)"
   ]
  },
  {
   "cell_type": "code",
   "execution_count": 144,
   "id": "53778ded",
   "metadata": {},
   "outputs": [],
   "source": [
    "corr_long.to_csv('./correlations_long.csv')"
   ]
  },
  {
   "cell_type": "code",
   "execution_count": 141,
   "id": "f67dfee2",
   "metadata": {},
   "outputs": [],
   "source": [
    "corr_table.to_csv('./correlations.csv')"
   ]
  },
  {
   "cell_type": "code",
   "execution_count": null,
   "id": "0cf519b7",
   "metadata": {},
   "outputs": [],
   "source": []
  }
 ],
 "metadata": {
  "kernelspec": {
   "display_name": "Python 3 (ipykernel)",
   "language": "python",
   "name": "python3"
  },
  "language_info": {
   "codemirror_mode": {
    "name": "ipython",
    "version": 3
   },
   "file_extension": ".py",
   "mimetype": "text/x-python",
   "name": "python",
   "nbconvert_exporter": "python",
   "pygments_lexer": "ipython3",
   "version": "3.11.4"
  }
 },
 "nbformat": 4,
 "nbformat_minor": 5
}
