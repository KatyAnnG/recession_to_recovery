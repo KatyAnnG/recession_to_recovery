{
 "cells": [
  {
   "cell_type": "code",
   "execution_count": 1,
   "id": "f17beaca",
   "metadata": {},
   "outputs": [],
   "source": [
    "import statsmodels.tools.eval_measures as sm\n",
    "import numpy as np\n",
    "import pandas as pd\n",
    "import seaborn as sns\n",
    "import matplotlib.pyplot as plt\n",
    "import glob\n",
    "import os"
   ]
  },
  {
   "cell_type": "code",
   "execution_count": 10,
   "id": "ef189b58",
   "metadata": {},
   "outputs": [
    {
     "data": {
      "text/html": [
       "<div>\n",
       "<style scoped>\n",
       "    .dataframe tbody tr th:only-of-type {\n",
       "        vertical-align: middle;\n",
       "    }\n",
       "\n",
       "    .dataframe tbody tr th {\n",
       "        vertical-align: top;\n",
       "    }\n",
       "\n",
       "    .dataframe thead th {\n",
       "        text-align: right;\n",
       "    }\n",
       "</style>\n",
       "<table border=\"1\" class=\"dataframe\">\n",
       "  <thead>\n",
       "    <tr style=\"text-align: right;\">\n",
       "      <th></th>\n",
       "      <th>DATAFLOW</th>\n",
       "      <th>LAST UPDATE</th>\n",
       "      <th>freq</th>\n",
       "      <th>age</th>\n",
       "      <th>sex</th>\n",
       "      <th>unit</th>\n",
       "      <th>geo</th>\n",
       "      <th>TIME_PERIOD</th>\n",
       "      <th>OBS_VALUE</th>\n",
       "      <th>OBS_FLAG</th>\n",
       "    </tr>\n",
       "  </thead>\n",
       "  <tbody>\n",
       "    <tr>\n",
       "      <th>0</th>\n",
       "      <td>ESTAT:ILC_LVPS08(1.0)</td>\n",
       "      <td>11/07/23 23:00:00</td>\n",
       "      <td>A</td>\n",
       "      <td>Y16-19</td>\n",
       "      <td>F</td>\n",
       "      <td>PC</td>\n",
       "      <td>AL</td>\n",
       "      <td>2017</td>\n",
       "      <td>93.8</td>\n",
       "      <td>NaN</td>\n",
       "    </tr>\n",
       "    <tr>\n",
       "      <th>1</th>\n",
       "      <td>ESTAT:ILC_LVPS08(1.0)</td>\n",
       "      <td>11/07/23 23:00:00</td>\n",
       "      <td>A</td>\n",
       "      <td>Y16-19</td>\n",
       "      <td>F</td>\n",
       "      <td>PC</td>\n",
       "      <td>AL</td>\n",
       "      <td>2018</td>\n",
       "      <td>94.9</td>\n",
       "      <td>NaN</td>\n",
       "    </tr>\n",
       "    <tr>\n",
       "      <th>2</th>\n",
       "      <td>ESTAT:ILC_LVPS08(1.0)</td>\n",
       "      <td>11/07/23 23:00:00</td>\n",
       "      <td>A</td>\n",
       "      <td>Y16-19</td>\n",
       "      <td>F</td>\n",
       "      <td>PC</td>\n",
       "      <td>AL</td>\n",
       "      <td>2019</td>\n",
       "      <td>94.2</td>\n",
       "      <td>NaN</td>\n",
       "    </tr>\n",
       "    <tr>\n",
       "      <th>3</th>\n",
       "      <td>ESTAT:ILC_LVPS08(1.0)</td>\n",
       "      <td>11/07/23 23:00:00</td>\n",
       "      <td>A</td>\n",
       "      <td>Y16-19</td>\n",
       "      <td>F</td>\n",
       "      <td>PC</td>\n",
       "      <td>AL</td>\n",
       "      <td>2020</td>\n",
       "      <td>96.8</td>\n",
       "      <td>NaN</td>\n",
       "    </tr>\n",
       "    <tr>\n",
       "      <th>4</th>\n",
       "      <td>ESTAT:ILC_LVPS08(1.0)</td>\n",
       "      <td>11/07/23 23:00:00</td>\n",
       "      <td>A</td>\n",
       "      <td>Y16-19</td>\n",
       "      <td>F</td>\n",
       "      <td>PC</td>\n",
       "      <td>AT</td>\n",
       "      <td>2003</td>\n",
       "      <td>93.2</td>\n",
       "      <td>NaN</td>\n",
       "    </tr>\n",
       "    <tr>\n",
       "      <th>...</th>\n",
       "      <td>...</td>\n",
       "      <td>...</td>\n",
       "      <td>...</td>\n",
       "      <td>...</td>\n",
       "      <td>...</td>\n",
       "      <td>...</td>\n",
       "      <td>...</td>\n",
       "      <td>...</td>\n",
       "      <td>...</td>\n",
       "      <td>...</td>\n",
       "    </tr>\n",
       "    <tr>\n",
       "      <th>18886</th>\n",
       "      <td>ESTAT:ILC_LVPS08(1.0)</td>\n",
       "      <td>11/07/23 23:00:00</td>\n",
       "      <td>A</td>\n",
       "      <td>Y25-34</td>\n",
       "      <td>T</td>\n",
       "      <td>PC</td>\n",
       "      <td>UK</td>\n",
       "      <td>2015</td>\n",
       "      <td>16.0</td>\n",
       "      <td>NaN</td>\n",
       "    </tr>\n",
       "    <tr>\n",
       "      <th>18887</th>\n",
       "      <td>ESTAT:ILC_LVPS08(1.0)</td>\n",
       "      <td>11/07/23 23:00:00</td>\n",
       "      <td>A</td>\n",
       "      <td>Y25-34</td>\n",
       "      <td>T</td>\n",
       "      <td>PC</td>\n",
       "      <td>UK</td>\n",
       "      <td>2016</td>\n",
       "      <td>14.3</td>\n",
       "      <td>NaN</td>\n",
       "    </tr>\n",
       "    <tr>\n",
       "      <th>18888</th>\n",
       "      <td>ESTAT:ILC_LVPS08(1.0)</td>\n",
       "      <td>11/07/23 23:00:00</td>\n",
       "      <td>A</td>\n",
       "      <td>Y25-34</td>\n",
       "      <td>T</td>\n",
       "      <td>PC</td>\n",
       "      <td>UK</td>\n",
       "      <td>2017</td>\n",
       "      <td>14.9</td>\n",
       "      <td>b</td>\n",
       "    </tr>\n",
       "    <tr>\n",
       "      <th>18889</th>\n",
       "      <td>ESTAT:ILC_LVPS08(1.0)</td>\n",
       "      <td>11/07/23 23:00:00</td>\n",
       "      <td>A</td>\n",
       "      <td>Y25-34</td>\n",
       "      <td>T</td>\n",
       "      <td>PC</td>\n",
       "      <td>UK</td>\n",
       "      <td>2018</td>\n",
       "      <td>16.2</td>\n",
       "      <td>NaN</td>\n",
       "    </tr>\n",
       "    <tr>\n",
       "      <th>18890</th>\n",
       "      <td>ESTAT:ILC_LVPS08(1.0)</td>\n",
       "      <td>11/07/23 23:00:00</td>\n",
       "      <td>A</td>\n",
       "      <td>Y25-34</td>\n",
       "      <td>T</td>\n",
       "      <td>PC</td>\n",
       "      <td>XK</td>\n",
       "      <td>2018</td>\n",
       "      <td>62.7</td>\n",
       "      <td>NaN</td>\n",
       "    </tr>\n",
       "  </tbody>\n",
       "</table>\n",
       "<p>18891 rows × 10 columns</p>\n",
       "</div>"
      ],
      "text/plain": [
       "                    DATAFLOW        LAST UPDATE freq     age sex unit geo  \\\n",
       "0      ESTAT:ILC_LVPS08(1.0)  11/07/23 23:00:00    A  Y16-19   F   PC  AL   \n",
       "1      ESTAT:ILC_LVPS08(1.0)  11/07/23 23:00:00    A  Y16-19   F   PC  AL   \n",
       "2      ESTAT:ILC_LVPS08(1.0)  11/07/23 23:00:00    A  Y16-19   F   PC  AL   \n",
       "3      ESTAT:ILC_LVPS08(1.0)  11/07/23 23:00:00    A  Y16-19   F   PC  AL   \n",
       "4      ESTAT:ILC_LVPS08(1.0)  11/07/23 23:00:00    A  Y16-19   F   PC  AT   \n",
       "...                      ...                ...  ...     ...  ..  ...  ..   \n",
       "18886  ESTAT:ILC_LVPS08(1.0)  11/07/23 23:00:00    A  Y25-34   T   PC  UK   \n",
       "18887  ESTAT:ILC_LVPS08(1.0)  11/07/23 23:00:00    A  Y25-34   T   PC  UK   \n",
       "18888  ESTAT:ILC_LVPS08(1.0)  11/07/23 23:00:00    A  Y25-34   T   PC  UK   \n",
       "18889  ESTAT:ILC_LVPS08(1.0)  11/07/23 23:00:00    A  Y25-34   T   PC  UK   \n",
       "18890  ESTAT:ILC_LVPS08(1.0)  11/07/23 23:00:00    A  Y25-34   T   PC  XK   \n",
       "\n",
       "       TIME_PERIOD  OBS_VALUE OBS_FLAG  \n",
       "0             2017       93.8      NaN  \n",
       "1             2018       94.9      NaN  \n",
       "2             2019       94.2      NaN  \n",
       "3             2020       96.8      NaN  \n",
       "4             2003       93.2      NaN  \n",
       "...            ...        ...      ...  \n",
       "18886         2015       16.0      NaN  \n",
       "18887         2016       14.3      NaN  \n",
       "18888         2017       14.9        b  \n",
       "18889         2018       16.2      NaN  \n",
       "18890         2018       62.7      NaN  \n",
       "\n",
       "[18891 rows x 10 columns]"
      ]
     },
     "execution_count": 10,
     "metadata": {},
     "output_type": "execute_result"
    }
   ],
   "source": [
    "df = pd.read_csv('./ilc_lvps08_linear.csv')\n",
    "df"
   ]
  },
  {
   "cell_type": "code",
   "execution_count": 12,
   "id": "58eb44e0",
   "metadata": {},
   "outputs": [
    {
     "data": {
      "text/plain": [
       "0        ESTAT:ILC_LVPS08(1.0)\n",
       "1        ESTAT:ILC_LVPS08(1.0)\n",
       "2        ESTAT:ILC_LVPS08(1.0)\n",
       "3        ESTAT:ILC_LVPS08(1.0)\n",
       "4        ESTAT:ILC_LVPS08(1.0)\n",
       "                 ...          \n",
       "18886    ESTAT:ILC_LVPS08(1.0)\n",
       "18887    ESTAT:ILC_LVPS08(1.0)\n",
       "18888    ESTAT:ILC_LVPS08(1.0)\n",
       "18889    ESTAT:ILC_LVPS08(1.0)\n",
       "18890    ESTAT:ILC_LVPS08(1.0)\n",
       "Name: DATAFLOW, Length: 18891, dtype: object"
      ]
     },
     "execution_count": 12,
     "metadata": {},
     "output_type": "execute_result"
    }
   ],
   "source": [
    "df.pop('DATAFLOW')"
   ]
  },
  {
   "cell_type": "code",
   "execution_count": 13,
   "id": "9de70ea6",
   "metadata": {},
   "outputs": [
    {
     "data": {
      "text/plain": [
       "0        11/07/23 23:00:00\n",
       "1        11/07/23 23:00:00\n",
       "2        11/07/23 23:00:00\n",
       "3        11/07/23 23:00:00\n",
       "4        11/07/23 23:00:00\n",
       "               ...        \n",
       "18886    11/07/23 23:00:00\n",
       "18887    11/07/23 23:00:00\n",
       "18888    11/07/23 23:00:00\n",
       "18889    11/07/23 23:00:00\n",
       "18890    11/07/23 23:00:00\n",
       "Name: LAST UPDATE, Length: 18891, dtype: object"
      ]
     },
     "execution_count": 13,
     "metadata": {},
     "output_type": "execute_result"
    }
   ],
   "source": [
    "df.pop('LAST UPDATE')"
   ]
  },
  {
   "cell_type": "code",
   "execution_count": 15,
   "id": "7f32d3b7",
   "metadata": {},
   "outputs": [
    {
     "data": {
      "text/plain": [
       "0        A\n",
       "1        A\n",
       "2        A\n",
       "3        A\n",
       "4        A\n",
       "        ..\n",
       "18886    A\n",
       "18887    A\n",
       "18888    A\n",
       "18889    A\n",
       "18890    A\n",
       "Name: freq, Length: 18891, dtype: object"
      ]
     },
     "execution_count": 15,
     "metadata": {},
     "output_type": "execute_result"
    }
   ],
   "source": [
    "df.pop('freq')"
   ]
  },
  {
   "cell_type": "code",
   "execution_count": 16,
   "id": "37c3984e",
   "metadata": {},
   "outputs": [
    {
     "data": {
      "text/plain": [
       "0        NaN\n",
       "1        NaN\n",
       "2        NaN\n",
       "3        NaN\n",
       "4        NaN\n",
       "        ... \n",
       "18886    NaN\n",
       "18887    NaN\n",
       "18888      b\n",
       "18889    NaN\n",
       "18890    NaN\n",
       "Name: OBS_FLAG, Length: 18891, dtype: object"
      ]
     },
     "execution_count": 16,
     "metadata": {},
     "output_type": "execute_result"
    }
   ],
   "source": [
    "df.pop('OBS_FLAG')"
   ]
  },
  {
   "cell_type": "code",
   "execution_count": 18,
   "id": "84fedfbe",
   "metadata": {},
   "outputs": [],
   "source": [
    "df.columns = df.columns.str.lower()"
   ]
  },
  {
   "cell_type": "code",
   "execution_count": 20,
   "id": "ef80539b",
   "metadata": {},
   "outputs": [],
   "source": [
    "df.rename(columns={'obs_value' : 'percentage', 'geo':'country'}, inplace=True)"
   ]
  },
  {
   "cell_type": "code",
   "execution_count": 22,
   "id": "894d9a64",
   "metadata": {},
   "outputs": [
    {
     "data": {
      "text/plain": [
       "0        PC\n",
       "1        PC\n",
       "2        PC\n",
       "3        PC\n",
       "4        PC\n",
       "         ..\n",
       "18886    PC\n",
       "18887    PC\n",
       "18888    PC\n",
       "18889    PC\n",
       "18890    PC\n",
       "Name: unit, Length: 18891, dtype: object"
      ]
     },
     "execution_count": 22,
     "metadata": {},
     "output_type": "execute_result"
    }
   ],
   "source": [
    "df.pop('unit')"
   ]
  },
  {
   "cell_type": "code",
   "execution_count": 24,
   "id": "e7993031",
   "metadata": {},
   "outputs": [],
   "source": [
    "df.to_csv('./young_adults_living_at_home.csv')"
   ]
  },
  {
   "cell_type": "code",
   "execution_count": null,
   "id": "e2bedffb",
   "metadata": {},
   "outputs": [],
   "source": []
  }
 ],
 "metadata": {
  "kernelspec": {
   "display_name": "Python 3 (ipykernel)",
   "language": "python",
   "name": "python3"
  },
  "language_info": {
   "codemirror_mode": {
    "name": "ipython",
    "version": 3
   },
   "file_extension": ".py",
   "mimetype": "text/x-python",
   "name": "python",
   "nbconvert_exporter": "python",
   "pygments_lexer": "ipython3",
   "version": "3.11.4"
  }
 },
 "nbformat": 4,
 "nbformat_minor": 5
}
